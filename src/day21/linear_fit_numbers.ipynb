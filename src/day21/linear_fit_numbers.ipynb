{
 "cells": [
  {
   "cell_type": "code",
   "execution_count": null,
   "id": "9cd0da00-948e-4ab8-8597-64145375ec11",
   "metadata": {},
   "outputs": [],
   "source": [
    "import pandas"
   ]
  },
  {
   "cell_type": "code",
   "execution_count": null,
   "id": "f3d6a458-fc83-4099-af40-5b322b8e0754",
   "metadata": {},
   "outputs": [],
   "source": [
    "df = pandas.read_csv('./output.csv')\n",
    "df"
   ]
  },
  {
   "cell_type": "code",
   "execution_count": null,
   "id": "1be9ba7e-02b6-438c-ad6e-3518db20e627",
   "metadata": {},
   "outputs": [],
   "source": [
    "df[0:10].plot()"
   ]
  },
  {
   "cell_type": "code",
   "execution_count": null,
   "id": "6a70e14b-5331-426f-ba32-bd7910e279b4",
   "metadata": {},
   "outputs": [],
   "source": [
    "a = df.diff()\n",
    "a"
   ]
  },
  {
   "cell_type": "code",
   "execution_count": null,
   "id": "34135a9f-6c71-4bbe-8e09-e8e854f131c0",
   "metadata": {},
   "outputs": [],
   "source": [
    "rel_data = df[df['x'] % 131 == 65]\n",
    "rel_data"
   ]
  },
  {
   "cell_type": "code",
   "execution_count": null,
   "id": "cd6099d8-9f58-412b-b48d-b878438f14fc",
   "metadata": {},
   "outputs": [],
   "source": [
    "from scipy.optimize import curve_fit"
   ]
  },
  {
   "cell_type": "code",
   "execution_count": null,
   "id": "18d9373c-7f47-4807-81d5-f16766c01553",
   "metadata": {},
   "outputs": [],
   "source": [
    "def f(x, a, b, c):\n",
    "    return a*x*x + b * x + c"
   ]
  },
  {
   "cell_type": "code",
   "execution_count": null,
   "id": "5b4cb8ab-3ec7-4023-9ad7-79a2a1cf0588",
   "metadata": {},
   "outputs": [],
   "source": [
    "popt, pcov = curve_fit(f, list(range(3)), rel_data['y'][:3])\n",
    "popt, pcov"
   ]
  },
  {
   "cell_type": "code",
   "execution_count": null,
   "id": "fe443f45-acdd-4dc3-b47a-e278d269f9bd",
   "metadata": {},
   "outputs": [],
   "source": [
    "x = (26501365 - 65) // 131\n",
    "x"
   ]
  },
  {
   "cell_type": "code",
   "execution_count": null,
   "id": "0f0c4784-aa50-43cf-946c-d072721d340e",
   "metadata": {},
   "outputs": [],
   "source": [
    "f(x, *map(round, popt))"
   ]
  },
  {
   "cell_type": "code",
   "execution_count": null,
   "id": "2fdef72d-2ef9-4c95-a0e7-703a11e1a3e7",
   "metadata": {},
   "outputs": [],
   "source": []
  }
 ],
 "metadata": {
  "kernelspec": {
   "display_name": "Python 3 (ipykernel)",
   "language": "python",
   "name": "python3"
  },
  "language_info": {
   "codemirror_mode": {
    "name": "ipython",
    "version": 3
   },
   "file_extension": ".py",
   "mimetype": "text/x-python",
   "name": "python",
   "nbconvert_exporter": "python",
   "pygments_lexer": "ipython3",
   "version": "3.11.3"
  }
 },
 "nbformat": 4,
 "nbformat_minor": 5
}
